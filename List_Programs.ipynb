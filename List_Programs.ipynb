{
 "cells": [
  {
   "cell_type": "code",
   "execution_count": 1,
   "metadata": {},
   "outputs": [
    {
     "name": "stdout",
     "output_type": "stream",
     "text": [
      "[10, 20, 30, 40]\n"
     ]
    }
   ],
   "source": [
    "list1=[10,20,30,40]\n",
    "print(list1)"
   ]
  },
  {
   "cell_type": "markdown",
   "metadata": {},
   "source": [
    "# Basic Operations"
   ]
  },
  {
   "cell_type": "code",
   "execution_count": 16,
   "metadata": {},
   "outputs": [
    {
     "name": "stdout",
     "output_type": "stream",
     "text": [
      "[10]\n",
      "4\n",
      "[40]\n",
      "[10, 20, 30, 40]\n",
      "[10, 20, 30, 40]\n"
     ]
    }
   ],
   "source": [
    "print(list1[:1]) # First Element\n",
    "print(len(list1)) #Length\n",
    "print(list1[-1:]) # Last Element\n",
    "print(list1[-4:]) # Last Four Element\n",
    "print(list1[:4]) # First Four Element\n"
   ]
  },
  {
   "cell_type": "markdown",
   "metadata": {},
   "source": [
    "# Find the given number is there in the list or not."
   ]
  },
  {
   "cell_type": "code",
   "execution_count": 10,
   "metadata": {},
   "outputs": [
    {
     "name": "stdout",
     "output_type": "stream",
     "text": [
      "Enter Value of n90\n",
      "Entered value is:  90\n",
      "90  is not exist in the list  [10, 20, 30, 40]\n"
     ]
    }
   ],
   "source": [
    "n=int(input(\"Enter Value of n :\"))\n",
    "print(\"Entered value is: \",n)\n",
    "isExist=False\n",
    "for i in range(len(list1)):\n",
    "    if(n==list1[i]):\n",
    "        isExist=True\n",
    "        break\n",
    "    else:\n",
    "        isExist=False\n",
    "        continue\n",
    "\n",
    "if(isExist):\n",
    "    print(n,\" is exist in the list \",list1)\n",
    "else:\n",
    "    print(n,\" is not exist in the list \",list1)\n",
    "\n",
    "\n",
    "    "
   ]
  },
  {
   "cell_type": "markdown",
   "metadata": {},
   "source": [
    "# Add all elements in list."
   ]
  },
  {
   "cell_type": "code",
   "execution_count": 25,
   "metadata": {},
   "outputs": [],
   "source": [
    "def addElements(list1):\n",
    "    resSum=0\n",
    "    for i in range(len(list1)):\n",
    "        resSum+=list1[i]\n",
    "    print(resSum)\n",
    "    return resSum\n",
    "        "
   ]
  },
  {
   "cell_type": "code",
   "execution_count": 26,
   "metadata": {},
   "outputs": [
    {
     "name": "stdout",
     "output_type": "stream",
     "text": [
      "[10, 20, 30, 40]\n",
      "100\n",
      "Sum is :  100\n"
     ]
    }
   ],
   "source": [
    "print(list1)\n",
    "res=addElements(list1)\n",
    "print(\"Sum is : \",res)"
   ]
  },
  {
   "cell_type": "code",
   "execution_count": null,
   "metadata": {},
   "outputs": [],
   "source": []
  }
 ],
 "metadata": {
  "kernelspec": {
   "display_name": "Python 3",
   "language": "python",
   "name": "python3"
  },
  "language_info": {
   "codemirror_mode": {
    "name": "ipython",
    "version": 3
   },
   "file_extension": ".py",
   "mimetype": "text/x-python",
   "name": "python",
   "nbconvert_exporter": "python",
   "pygments_lexer": "ipython3",
   "version": "3.7.4"
  }
 },
 "nbformat": 4,
 "nbformat_minor": 2
}
